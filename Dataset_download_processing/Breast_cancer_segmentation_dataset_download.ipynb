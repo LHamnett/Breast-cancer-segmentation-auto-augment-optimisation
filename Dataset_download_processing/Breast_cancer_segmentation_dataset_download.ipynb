{
  "cells": [
    {
      "cell_type": "markdown",
      "source": [
        "This notebook will achieve the following:\n",
        "1.  Download the breast cancer segmentation dataset\n",
        "2.  Remap the ground truth segmentation masks from 22 classes to 6 classes\n",
        "3. Split the whole slide images and masks into sub-sections (patches) "
      ],
      "metadata": {
        "id": "XienUEgrriTl"
      }
    },
    {
      "cell_type": "code",
      "execution_count": null,
      "metadata": {
        "colab": {
          "base_uri": "https://localhost:8080/"
        },
        "id": "N9KHLXzEOx-d",
        "outputId": "ecd46ba5-f88d-4596-c779-a9cfce3a88bd"
      },
      "outputs": [
        {
          "output_type": "stream",
          "name": "stdout",
          "text": [
            "Mounted at /content/gdrive/\n"
          ]
        }
      ],
      "source": [
        "from google.colab import drive\n",
        "drive.mount('/content/gdrive/')"
      ]
    },
    {
      "cell_type": "code",
      "execution_count": null,
      "metadata": {
        "id": "mAE_h7XhPT7d"
      },
      "outputs": [],
      "source": [
        "#system tools\n",
        "from functools import partial\n",
        "from math import floor,ceil\n",
        "import multiprocessing\n",
        "import os\n",
        "import shutil\n",
        "import typing\n",
        "from typing import Callable, List\n",
        "import time\n",
        "\n",
        "#vis tools\n",
        "import matplotlib.pyplot as plt\n",
        "import matplotlib.patches as mpatches\n",
        "import seaborn as sns\n",
        "\n",
        "#image processing\n",
        "import cv2\n",
        "from google.colab.patches import cv2_imshow\n",
        "import numpy as np\n",
        "from PIL import Image\n",
        "\n",
        "#other\n",
        "import pandas as pd"
      ]
    },
    {
      "cell_type": "markdown",
      "metadata": {
        "id": "7tEYjeHrIn7k"
      },
      "source": [
        "## Getting the cancer dataset:\n",
        "\n",
        "We download the breast cancer segmentation dataset as detailed in:\n",
        "https://github.com/PathologyDataScience/BCSS\n",
        "\n"
      ]
    },
    {
      "cell_type": "code",
      "execution_count": null,
      "metadata": {
        "id": "CktbYgJ1iJhD"
      },
      "outputs": [],
      "source": [
        "class PrepareDataset():\n",
        "\n",
        "  def __init__(self):\n",
        "    #\n",
        "    palette = sns.color_palette('tab20', 6) #make new palette                                            \n",
        "    palette_array = np.asarray(palette)*255\n",
        "    palette_array = np.roll(palette_array, -2,axis=0) # roll array so orange is tumour \n",
        "    self.palette_array = palette_array\n",
        "\n",
        "  def clone_repo(self, \n",
        "                 path_to_clone_repo:str):\n",
        "    #clone the repo so we can download the images\n",
        "    self.path_to_clone_repo = os.path.abspath(path_to_clone_repo)\n",
        "    if not os.path.exists(path_to_clone_repo):\n",
        "      !git clone https://github.com/CancerDataScience/CrowdsourcingDataset-Amgadetal2019 $path_to_clone_repo\n",
        "      !cd $path_to_clone_repo\n",
        "\n",
        "  def download_dataset(self, \n",
        "                       path_to_download_dataset:str):\n",
        "    \n",
        "\n",
        "    #check if dataset has already been downloaded if not download it\n",
        "    if os.path.exists(path_to_download_dataset):\n",
        "      print(f'it appears the dataset has already been downloaded at {path_to_download_dataset}')\n",
        "    else:\n",
        "      os.chdir(self.path_to_clone_repo)\n",
        "      !pip install girder_client girder-client pillow numpy scikit-image imageio #install needed packages to run the download script\n",
        "      \n",
        "      #modify the config file to point to the path where we want to download the images instead of default save path\n",
        "      path_to_config_file = os.path.join(os.getcwd(),'configs.py')\n",
        "      path_to_new_config_file = os.path.join(os.getcwd(),'configs_new.py')\n",
        "      \n",
        "      #read previous config file so we can rewrite/edit the contents\n",
        "      old_config_lines = []\n",
        "      with open(path_to_config_file,'r') as conf_file:\n",
        "        old_config_lines = conf_file.readlines()\n",
        "\n",
        "      with open(path_to_new_config_file,'w') as conf_file:\n",
        "        for line in old_config_lines:\n",
        "          new_line = line.replace(\"SAVEPATH = './'\",f\"SAVEPATH = '{path_to_download_dataset}'\")\n",
        "          conf_file.write(new_line+'\\n')\n",
        "\n",
        "      #keep old config file incase we need it for reference\n",
        "      os.rename(path_to_config_file,'/content/gdrive/MyDrive/BCSS_segmentation_repo/configs_old.py')\n",
        "      os.rename(path_to_new_config_file,'/content/gdrive/MyDrive/BCSS_segmentation_repo/configs.py')\n",
        "      print('new config file created')\n",
        "\n",
        "      #download the images\n",
        "      print('starting download of dataset:')\n",
        "      !python download_crowdsource_dataset.py\n",
        "      print('finished download of dataset:')\n",
        "\n",
        "    self.orig_dataset_path = path_to_download_dataset\n",
        "    os.chdir('/content')\n",
        "    orig_img_folder_name = os.path.join(path_to_download_dataset,'images')\n",
        "    if os.path.exists(orig_img_folder_name):\n",
        "      print('renaming original image folder')\n",
        "      new_img_folder_name = os.path.join(path_to_download_dataset,'orig_images')\n",
        "      os.rename(orig_img_folder_name,new_img_folder_name)\n",
        " \n",
        "  #make lists of filepaths for original images and masks\n",
        "  def get_orig_file_paths(self):\n",
        "    '''\n",
        "    get filepaths for original images and segmentation masks and save them as two lists\n",
        "    '''\n",
        "    self.orig_images_folder_path = os.path.join(self.orig_dataset_path,'orig_images')\n",
        "    self.orig_masks_folder_path = os.path.join(self.orig_dataset_path,'masks')\n",
        "\n",
        "    #make list of original image paths\n",
        "    orig_image_paths = []\n",
        "    for img in os.listdir(self.orig_images_folder_path):\n",
        "      temp_img_path = os.path.join(self.orig_images_folder_path,img)\n",
        "      orig_image_paths.append(temp_img_path)\n",
        "    self.orig_image_paths_list = sorted(orig_image_paths)\n",
        "\n",
        "    #make list of original mask paths\n",
        "    orig_mask_paths = []\n",
        "    for mask in os.listdir(self.orig_masks_folder_path):\n",
        "      temp_mask_path = os.path.join(self.orig_masks_folder_path,mask)\n",
        "      orig_mask_paths.append(temp_mask_path)\n",
        "      self.orig_mask_paths_list = sorted(orig_mask_paths)\n",
        "\n",
        "  #define  function to remap ground truth pixel values as defined in original paper\n",
        "  def map_gt_to_new_values_6_class(self,\n",
        "                                   orig_gt:int)-> int:\n",
        "\n",
        "    if orig_gt in [1,19,20]: # if gt is tumor, angioinvasion, dcis\n",
        "      return 1 #return tumor class\n",
        "    elif orig_gt in [2]: # if gt is stroma\n",
        "      return 2 #return stroma class\n",
        "    elif orig_gt in [3,10,11]: #if gt is lymphocytes , plasma cells, other immune infiltrates\n",
        "      return 3 #return inflammatory class\n",
        "    elif orig_gt in [4]: #if gt is necrosis_or_debris\n",
        "      return 4 #return necrosis class\n",
        "    elif orig_gt in [0]: #if gt is outside ROI\n",
        "      return 0 #return outside ROI\n",
        "    else: \n",
        "      return 5 #return other class\n",
        "\n",
        "  def map_gt_to_new_values_2_class(self,\n",
        "                                   orig_gt:int) -> int:\n",
        "\n",
        "    if orig_gt in [1,19,20]: # if gt is tumor, angioinvasion, dcis\n",
        "      return 1 #return tumor class\n",
        "    else: \n",
        "      return 0 #return other class\n",
        "  \n",
        "  \n",
        "  def process_mask(self,\n",
        "                   mask_path:str, \n",
        "                   new_masks_folder:str,\n",
        "                   vfunc_to_convert:Callable,\n",
        "                   make_3d_mask:bool=False) -> str:\n",
        "    '''\n",
        "    converts ground truth values for a single mask\n",
        "    '''\n",
        "    img_name = os.path.basename(mask_path)\n",
        "    print(f'processing mask: {img_name}')\n",
        "    mask_img = cv2.imread(mask_path, cv2.IMREAD_UNCHANGED)\n",
        "\n",
        "    # Map pixel values of ground truth masks using mapping to 6 classes or binary (tumor=0,1)\n",
        "    if vfunc_to_convert == None:\n",
        "      vfunc_to_convert = np.vectorize(self.map_gt_to_new_values_6_class)\n",
        "    new_mask = vfunc_to_convert(mask_img) #apply conversion function to remap pixel values\n",
        "    \n",
        "    #if 3d mask is required, copy 2d image across RGB channels\n",
        "    if make_3d_mask==True:\n",
        "      new_mask = np.dstack((new_mask,new_mask,new_mask))\n",
        "    \n",
        "    if not os.path.exists(new_masks_folder):\n",
        "      os.makedirs(new_masks_folder)\n",
        "    temp_path = os.path.join(new_masks_folder, img_name)\n",
        "    print(f'temp path: {temp_path}')\n",
        "    cv2.imwrite(temp_path, new_mask)\n",
        "    print(f'finished mask: {img_name}')\n",
        "    return temp_path\n",
        "\n",
        "  def remap_ground_truth_masks(self,\n",
        "                               new_masks_folder:str,\n",
        "                               convert_to_binary:bool,\n",
        "                               make_3d_mask:bool):\n",
        "    '''\n",
        "    remap pixel values of seg mask\n",
        "\n",
        "    Original ground truth includes ~20 classes see /0_Public-data-Amgad2019_0.25MPP/meta/gtruth_codes.tsv\n",
        "    We want to collapse this to 6 classes of: 'outside_roi','tumor','stroma','inflammatory','necrosis','other'\n",
        "    to match with the paper. \n",
        "\n",
        "    inputs:\n",
        "    new_masks_folder [str] = folder to save the adjusted ground truth masks\n",
        "    remap_to [str] = '2d' or '3d' , whether to remap the mask to a 2d or 3d image\n",
        "    '''\n",
        "\n",
        "    self.new_masks_folder = new_masks_folder\n",
        "    new_masks_paths = []\n",
        "\n",
        "    #if the folder for the modified ground truth masks does not exist, create it\n",
        "    if os.path.exists(new_masks_folder):\n",
        "      user_choice = input('new masks folder already exists, confirm replace existing new masks folder (y/n)')\n",
        "      if user_choice == 'y':\n",
        "        shutil.rmtree(new_masks_folder)\n",
        "      else:\n",
        "        for mask in os.listdir(new_masks_folder):\n",
        "          temp_path = os.path.join(os.path.dirname(new_masks_folder),new_masks_folder,mask)\n",
        "          new_masks_paths.append(temp_path)\n",
        "        self.new_masks_paths_list = new_masks_paths\n",
        "        print('nothing to do, exiting')\n",
        "        return None\n",
        "      \n",
        "    os.makedirs(new_masks_folder)\n",
        "    if convert_to_binary == False:\n",
        "      vfunc = np.vectorize(self.map_gt_to_new_values_6_class)\n",
        "    else:\n",
        "      vfunc = np.vectorize(self.map_gt_to_new_values_2_class)\n",
        "    \n",
        "    x = 0\n",
        "    total_masks = len(self.orig_mask_paths_list)\n",
        "    print('creating new image masks')\n",
        "\n",
        "    for mask_path in self.orig_mask_paths_list:\n",
        "      print(f'mask {x}/total_masks')\n",
        "      temp_path = self.process_mask(mask_path=mask_path, \n",
        "                        new_masks_folder=new_masks_folder,\n",
        "                        vfunc_to_convert=vfunc,\n",
        "                        make_3d_mask=make_3d_mask)\n",
        "      new_masks_paths.append(temp_path)\n",
        "      x+=1\n",
        "    # self.new_masks_paths_list = self.process_masks_parallel(new_masks_folder=new_masks_folder,\n",
        "    #                                                remap_to=remap_to)\n",
        "    self.new_masks_paths_list = new_masks_paths                                        \n",
        "    print('finished creating new image masks')\n",
        "    \n",
        "  \n",
        "  def sanity_check(self,image_list:List,mask_list:List):\n",
        "    '''\n",
        "    check list of images and masks has the same length and that the filenames are matching\n",
        "    '''\n",
        "\n",
        "    try:\n",
        "      assert (len(image_list)==len(mask_list))\n",
        "      print('image and mask lists are the same length')\n",
        "    except:\n",
        "      print(f'len image list : {image_list} , len mask list : {mask_list}')\n",
        "      raise ValueError('list of image paths and list of mask paths are not the same length')\n",
        "\n",
        "    print('for each x image and mask should have same name')\n",
        "    for x in range(5):\n",
        "      print(x)\n",
        "      print('orig image')\n",
        "      print(f'{image_list[x]}')\n",
        "      print('mask')\n",
        "      print(f'{mask_list[x]}')\n",
        "\n",
        "  #get bounding boxes for image patches\n",
        "  def calculate_slice_bboxes(self,\n",
        "                             input_img_path:str,\n",
        "                             slice_size:int=800)->List[List[int]]:\n",
        "\n",
        "    \"\"\"\n",
        "    calculates how to divide an image into overlapping slices according to patch size. \n",
        "    \n",
        "    calculates how an image should be divided into overlapping patches and\n",
        "    returns a list of bounding boxes where each bounding box \n",
        "\n",
        "    inputs:\n",
        "    input_img: str \n",
        "      path to image to be sliced\n",
        "    slice_size: int\n",
        "      patch size - cuts image into patches of dims slice_size x slice_size\n",
        "    \n",
        "    returns:\n",
        "    slice_bboxes: list of lists:\n",
        "      a list of n lists where each inner list corresponds to a single patch in the format x1y1x2y2\n",
        "    \"\"\"\n",
        "\n",
        "    #load image\n",
        "    test_img = cv2.imread(input_img_path)\n",
        "    test_img_np = np.asarray(test_img)\n",
        "    im_dims = np.shape(test_img_np)\n",
        "    #get height and width\n",
        "    image_width = im_dims[1]\n",
        "    image_height = im_dims[0]\n",
        "\n",
        "    #calculate variables for making patches\n",
        "    wid_over_p_size = image_width/slice_size #total width/patch size : gives n of patches in decimal to cover whole image\n",
        "    n_width_patches_to_get_whole_width = ceil(image_width/slice_size) #can't have decimal patches so round up number of patches needed\n",
        "    width_overlap_total = n_width_patches_to_get_whole_width*slice_size - image_width #if we make patches with no overlap we overshoot the edge of the image by a certain number of pixels\n",
        "    width_overlap_between_two_patches = width_overlap_total/(n_width_patches_to_get_whole_width-1) \n",
        "\n",
        "    height_over_p_size = image_height/slice_size #total width/patch size : gives n of patches in decimal to cover whole image\n",
        "    n_height_patches_to_get_whole_height= ceil(image_height/slice_size) #can't have decimal patches so round up number of patches needed\n",
        "    height_overlap_total = n_height_patches_to_get_whole_height*slice_size - image_height #if we make patches with no overlap we overshoot the edge of the image by a certain number of pixels\n",
        "    height_overlap_between_two_patches = height_overlap_total/(n_height_patches_to_get_whole_height-1) \n",
        "    \n",
        "    #init lists\n",
        "    x_mins = []\n",
        "    x_maxs = []\n",
        "    y_mins = []\n",
        "    y_maxs = []\n",
        "    \n",
        "    #find patch limits as patch moves across the x direction from left to right:\n",
        "    for x in range(n_width_patches_to_get_whole_width):\n",
        "      if x == 0:\n",
        "        x_min = 0\n",
        "        x_max = slice_size\n",
        "      else:\n",
        "        x_min = int(x_min+slice_size - width_overlap_between_two_patches)\n",
        "        x_max = int(x_min+slice_size)\n",
        "        if x_max > image_width:\n",
        "          x_max = image_width\n",
        "          x_min = image_width - slice_size\n",
        "      x_mins.append(x_min)\n",
        "      x_maxs.append(x_max)\n",
        "\n",
        "    #find patch limits as patch moves up the y direction from bottom to top:\n",
        "    for y in range(n_height_patches_to_get_whole_height):\n",
        "      if y == 0:\n",
        "        y_min = 0\n",
        "        y_max = slice_size\n",
        "      else:\n",
        "        y_min = int(y_min+slice_size - height_overlap_between_two_patches)\n",
        "        y_max = int(y_min+slice_size)\n",
        "        if y_max > image_height:\n",
        "          y_max = image_height\n",
        "          y_min = image_height - slice_size\n",
        "      y_mins.append(y_min)\n",
        "      y_maxs.append(y_max)\n",
        "\n",
        "    # convert lists to bbox xyxy\n",
        "    slice_bboxes = []\n",
        "    for y in range(len(y_mins)):\n",
        "      for x in range(len(x_mins)):\n",
        "        x1 = x_mins[x]\n",
        "        y1 = y_mins[y]\n",
        "        x2 = x_maxs[x]\n",
        "        y2 = y_maxs[y]\n",
        "        slice_bboxes.append([x1,y1,x2,y2])\n",
        "\n",
        "    return slice_bboxes\n",
        "\n",
        "  #split a single image into patches\n",
        "  def split_and_save_single_image_and_mask(self,\n",
        "                                           orig_image_path:str,\n",
        "                                           mask_path:str,\n",
        "                                           output_folder:str=None,\n",
        "                                           slice_size:int=800):\n",
        "    '''split an input image and associated mask into 800x800 sections\n",
        "\n",
        "    The original images and masks are at least ~2000 pixels in height and width\n",
        "    In the original paper, they use image section of 800x800 and so we modify the original images and masks\n",
        "    and split them into sections of 800x800 images\n",
        "\n",
        "    inputs:\n",
        "    image_name: path to a single image\n",
        "    output_folder: a folder to save the 800x800 image sections \n",
        "    image_type: choose 'img' or 'mask'. Only difference is for image we need to specify the third image dimension\n",
        "    '''\n",
        "    new_image_folder = os.path.join(output_folder,'images')\n",
        "    new_mask_folder = os.path.join(output_folder,'masks')\n",
        "    if not os.path.exists(new_image_folder):\n",
        "      os.makedirs(new_image_folder)\n",
        "    if not os.path.exists(new_mask_folder):\n",
        "      os.makedirs(new_mask_folder)\n",
        "\n",
        "    img_array = np.asarray(cv2.imread(orig_image_path))\n",
        "    img_name = orig_image_path.split('/')[-1].split('.')[0] #get image name from path\n",
        "    mask_array = np.asarray(cv2.imread(mask_path,cv2.IMREAD_UNCHANGED)) #read image in same format \n",
        "\n",
        "    \n",
        "    # print(f'shape of img array: {np.shape(img_array)}')\n",
        "    # print(f'shape of mask array: {np.shape(mask_array)}')\n",
        "\n",
        "    #get bboxes for input image\n",
        "    bboxes_sing_img_patches = self.calculate_slice_bboxes(orig_image_path,slice_size)\n",
        "    print(f'splitting {img_name} into {len(bboxes_sing_img_patches)} patches:')\n",
        "\n",
        "    # start_time = time.perf_counter()\n",
        "    # loop over the image patches and save each patch as a new image\n",
        "    for x in range(len(bboxes_sing_img_patches)):\n",
        "      temp_bbox = bboxes_sing_img_patches[x] #xyxy\n",
        "      temp_x_start = temp_bbox[0]\n",
        "      temp_x_end = temp_bbox[2]\n",
        "      temp_y_start = temp_bbox[1]\n",
        "      temp_y_end = temp_bbox[3]\n",
        "\n",
        "      new_name = f\"{img_name}_sub_image_{x:02d}.png\" #create new image name,with number format 01 , 02... 10,11 etc\n",
        "\n",
        "      #create image patches and save\n",
        "      temp_img_patch = img_array[temp_y_start:temp_y_end,temp_x_start:temp_x_end,:] \n",
        "      temp_mask_patch = mask_array[temp_y_start:temp_y_end,temp_x_start:temp_x_end]\n",
        "      \n",
        "      #create paths for newly created files\n",
        "      new_image_path = os.path.join(new_image_folder,new_name) #make path to save image section\n",
        "      new_mask_path = os.path.join(new_mask_folder,new_name)\n",
        "      \n",
        "      #save single patch for image and mask\n",
        "      cv2.imwrite(new_image_path,temp_img_patch)\n",
        "      cv2.imwrite(new_mask_path,temp_mask_patch)\n",
        "\n",
        "    print(f'finished splitting {img_name}')\n",
        "\n",
        "    # end_time = time.perf_counter()\n",
        "    # execution_time = end_time - start_time\n",
        "    # print(f\"The execution time to patch an image with cv2 is: {execution_time}\")\n",
        "\n",
        "  def start_splitting_all_images_masks(self, new_folder_for_patched:str, \n",
        "                                       mask_type:str='new'):\n",
        "    '''\n",
        "    start splitting all images and masks\n",
        "    '''\n",
        "\n",
        "    self.patched_images_folder = os.path.join(new_folder_for_patched,'images')\n",
        "    self.patched_masks_folder = os.path.join(new_folder_for_patched,'masks')\n",
        "\n",
        "    patched_images_paths_list = []\n",
        "    patched_masks_paths_list = []\n",
        "\n",
        "    if not os.path.exists(new_folder_for_patched):\n",
        "      os.makedirs(new_folder_for_patched)\n",
        "    else:\n",
        "      user_input = input('it appears patch folder already exists. confirm delete existing folder (y/n)')\n",
        "      if user_input == 'y':\n",
        "        print('deleting existing patch folder')\n",
        "        shutil.rmtree(new_folder_for_patched)\n",
        "        os.makedirs(self.patched_images_folder)\n",
        "        os.makedirs(self.patched_masks_folder)\n",
        "      else: #get existing paths for patched images and masks\n",
        "        for patched_img in os.listdir(self.patched_images_folder):\n",
        "          temp_path = os.path.join(os.path.dirname(self.patched_images_folder),patched_img)\n",
        "          patched_images_paths_list.append(temp_path)\n",
        "        self.patched_images_paths_list = patched_images_paths_list\n",
        "\n",
        "        for patched_mask in os.listdir(self.patched_masks_folder):\n",
        "          temp_path = os.path.join(os.path.dirname(self.patched_masks_folder),patched_mask)\n",
        "          patched_masks_paths_list.append(temp_path)\n",
        "        self.patched_masks_paths_list = patched_masks_paths_list\n",
        "        print('nothing to do, exiting')\n",
        "        return None\n",
        "\n",
        "    # get list of image and mask pairs to process\n",
        "    image_mask_pairs = zip(self.orig_image_paths_list, self.new_masks_paths_list if mask_type == 'new' else self.orig_masks_paths_list)\n",
        "    self.split_all_input_images_and_masks_opt(image_mask_pairs=image_mask_pairs,\n",
        "                                         new_folder_for_patched=new_folder_for_patched)\n",
        "\n",
        "  def split_all_input_images_and_masks_opt(self, image_mask_pairs:zip,new_folder_for_patched:str):\n",
        "    '''\n",
        "    use multiprocessing for efficient pacthing of images and corresponding masks\n",
        "    '''\n",
        "    \n",
        "    # create a pool of worker processes\n",
        "    pool = multiprocessing.Pool()\n",
        "\n",
        "    # apply the process_image function to each image and mask pair in the input folder\n",
        "    results = []\n",
        "    for image_path, mask_path in image_mask_pairs:\n",
        "        result = pool.apply_async(self.split_and_save_single_image_and_mask, args=(image_path, mask_path, new_folder_for_patched, 800))\n",
        "        results.append(result)\n",
        "\n",
        "    # wait for all processes to complete and get results\n",
        "    for result in results:\n",
        "        result.wait()\n",
        "        # print(result.get())\n",
        "\n",
        "    print('all images and masks split into patches')\n",
        "\n",
        "  def get_patched_file_paths(self,patched_folder_path:str):\n",
        "    '''\n",
        "    get filepaths for patched images and segmentation masks and save them as two lists\n",
        "\n",
        "    inputs: patched_folder_path\n",
        "    '''\n",
        "    self.patched_images_folder_path = os.path.join(patched_folder_path,'images')\n",
        "    self.patched_masks_folder_path = os.path.join(patched_folder_path,'masks')\n",
        "\n",
        "    #make list of original image paths\n",
        "    patched_image_paths = []\n",
        "    for img in os.listdir(self.patched_images_folder_path):\n",
        "      temp_img_path = os.path.join(self.patched_images_folder_path,img)\n",
        "      patched_image_paths.append(temp_img_path)\n",
        "    self.patched_image_paths_list = sorted(patched_image_paths)\n",
        "\n",
        "    #make list of original mask paths\n",
        "    patched_mask_paths = []\n",
        "    for mask in os.listdir(self.patched_masks_folder_path):\n",
        "      temp_mask_path = os.path.join(self.patched_masks_folder_path,mask)\n",
        "      patched_mask_paths.append(temp_mask_path)\n",
        "    self.patched_mask_paths_list = sorted(patched_mask_paths)\n",
        "\n",
        "  def make_sure_same_images_and_masks_present(self):\n",
        "\n",
        "    image_patch_names = set([path.split('/')[-1] for path in self.patched_image_paths_list])\n",
        "    mask_patch_names = set([path.split('/')[-1] for path in self.patched_mask_paths_list])\n",
        "\n",
        "    # Identify missing image names from mask list\n",
        "    missing_image_names_from_mask_list = list(image_patch_names - mask_patch_names)\n",
        "\n",
        "    # Identify missing mask names from image list\n",
        "    missing_mask_names_from_image_list = list(mask_patch_names - image_patch_names)\n",
        "\n",
        "    print(f'num images not present in mask list: {len(missing_image_names_from_mask_list)}')\n",
        "    print(f'num masks not present in image list: {len(missing_mask_names_from_image_list)}')\n",
        "\n",
        "    bad_image_names = []\n",
        "    bad_mask_names = []\n",
        "    image_patch_names_list = list(image_patch_names)\n",
        "    mask_patch_names_list = list(mask_patch_names)\n",
        "\n",
        "    for name in image_patch_names_list:\n",
        "      if ('.png.png' in name):\n",
        "        print(f'bad filename: {name}')\n",
        "        bad_image_names.append(name)\n",
        "\n",
        "    for name in mask_patch_names_list:\n",
        "        if ('.png.png' in name):\n",
        "          print(f'bad filename: {name}')\n",
        "          bad_mask_names.append(name)\n",
        "\n",
        "    print(f'total paths with bad filename \".png.png\": {len(bad_image_names)+len(bad_mask_names)}')\n",
        "\n",
        "    user_choice = input('confirm delete unmatching images and masks (y/n)')\n",
        "    if user_choice == 'y':\n",
        "    # Remove missing filenames from each list\n",
        "      for name in missing_image_names_from_mask_list+bad_image_names:\n",
        "          path_to_remove = os.path.join(self.patched_images_folder_path,name)\n",
        "          self.patched_image_paths_list.remove(path_to_remove)\n",
        "\n",
        "      for name in missing_mask_names_from_image_list+bad_mask_names:\n",
        "          path_to_remove = os.path.join(self.patched_masks_folder_path,name)\n",
        "          self.patched_mask_paths_list.remove(path_to_remove)\n",
        "\n",
        "      print('images and masks now all have mnatching pairs')\n",
        "    else:\n",
        "      print('nothing to do. \\n Warning: error will be thrown during training if images/masks are not both present in respective folders')\n",
        "\n",
        "prep_dataset_obj = PrepareDataset()"
      ]
    },
    {
      "cell_type": "code",
      "execution_count": null,
      "metadata": {
        "colab": {
          "base_uri": "https://localhost:8080/"
        },
        "id": "vQ5c-x235928",
        "outputId": "7e35f949-0d1f-4a55-81e0-48162adbf2bd"
      },
      "outputs": [
        {
          "output_type": "stream",
          "name": "stdout",
          "text": [
            "it appears the dataset has already been downloaded at /content/gdrive/MyDrive/BCSS_dataset\n"
          ]
        }
      ],
      "source": [
        "#download dataset\n",
        "prep_dataset_obj.clone_repo(path_to_clone_repo='/content/gdrive/MyDrive/BCSS_segmentation_repo')\n",
        "prep_dataset_obj.download_dataset(path_to_download_dataset='/content/gdrive/MyDrive/BCSS_dataset')"
      ]
    },
    {
      "cell_type": "markdown",
      "metadata": {
        "id": "PEbDeIJOWM66"
      },
      "source": [
        "##Setting paths to images/masks"
      ]
    },
    {
      "cell_type": "code",
      "execution_count": null,
      "metadata": {
        "colab": {
          "base_uri": "https://localhost:8080/"
        },
        "id": "Sdd8v4au5sq-",
        "outputId": "f88108bb-32d0-4432-b68d-1f59ecd218b8"
      },
      "outputs": [
        {
          "output_type": "stream",
          "name": "stdout",
          "text": [
            "image and mask lists are the same length\n",
            "for each x image and mask should have same name\n",
            "0\n",
            "orig image\n",
            "/content/gdrive/MyDrive/BCSS_dataset/orig_images/TCGA-A1-A0SK-DX1_xmin45749_ymin25055_MPP-0.2500.png\n",
            "mask\n",
            "/content/gdrive/MyDrive/BCSS_dataset/masks/TCGA-A1-A0SK-DX1_xmin45749_ymin25055_MPP-0.2500.png\n",
            "1\n",
            "orig image\n",
            "/content/gdrive/MyDrive/BCSS_dataset/orig_images/TCGA-A1-A0SP-DX1_xmin6798_ymin53719_MPP-0.2500.png\n",
            "mask\n",
            "/content/gdrive/MyDrive/BCSS_dataset/masks/TCGA-A1-A0SP-DX1_xmin6798_ymin53719_MPP-0.2500.png\n",
            "2\n",
            "orig image\n",
            "/content/gdrive/MyDrive/BCSS_dataset/orig_images/TCGA-A2-A04P-DX1_xmin104246_ymin48517_MPP-0.2500.png\n",
            "mask\n",
            "/content/gdrive/MyDrive/BCSS_dataset/masks/TCGA-A2-A04P-DX1_xmin104246_ymin48517_MPP-0.2500.png\n",
            "3\n",
            "orig image\n",
            "/content/gdrive/MyDrive/BCSS_dataset/orig_images/TCGA-A2-A04Q-DX1_xmin20868_ymin17804_MPP-0.2500.png\n",
            "mask\n",
            "/content/gdrive/MyDrive/BCSS_dataset/masks/TCGA-A2-A04Q-DX1_xmin20868_ymin17804_MPP-0.2500.png\n",
            "4\n",
            "orig image\n",
            "/content/gdrive/MyDrive/BCSS_dataset/orig_images/TCGA-A2-A04T-DX1_xmin72145_ymin39078_MPP-0.2500.png\n",
            "mask\n",
            "/content/gdrive/MyDrive/BCSS_dataset/masks/TCGA-A2-A04T-DX1_xmin72145_ymin39078_MPP-0.2500.png\n"
          ]
        }
      ],
      "source": [
        "prep_dataset_obj.get_orig_file_paths()\n",
        "prep_dataset_obj.sanity_check(prep_dataset_obj.orig_image_paths_list,prep_dataset_obj.orig_mask_paths_list)"
      ]
    },
    {
      "cell_type": "markdown",
      "metadata": {
        "id": "NFMOtpbggxnQ"
      },
      "source": [
        "### Remapping ground truth classes:"
      ]
    },
    {
      "cell_type": "markdown",
      "metadata": {
        "id": "kHZtSH0tkjM3"
      },
      "source": [
        "https://bcsegmentation.grand-challenge.org/Baseline/\n",
        "\n",
        "Class grouping\n",
        "The network was trained to map pixels into five region classes: \n",
        "**tumor, stroma, inflammatory infiltration, necrosis** and other. Regions that belong to rare classes were grouped with predominant classes where appropriate, as follows:\n",
        "\n",
        "Grouped with “tumor”: angioinvasion, DCIS.\n",
        "Grouped with “inflammatory infiltrates”: lymphocytes, plasma cells, other immune infiltrates. \n",
        "\n"
      ]
    },
    {
      "cell_type": "markdown",
      "metadata": {
        "id": "Cw3MjmyGBImZ"
      },
      "source": [
        "#### Pandas tables of old and new classes for reference:\n"
      ]
    },
    {
      "cell_type": "code",
      "execution_count": null,
      "metadata": {
        "colab": {
          "base_uri": "https://localhost:8080/",
          "height": 739
        },
        "id": "EnawBpiFYZyL",
        "outputId": "bf1905a1-5eb0-42ee-bcbc-32b564cecb3f"
      },
      "outputs": [
        {
          "output_type": "execute_result",
          "data": {
            "text/plain": [
              "                      label  GT_code  new\n",
              "0               outside_roi        0    0\n",
              "1                     tumor        1    1\n",
              "2                    stroma        2    2\n",
              "3    lymphocytic_infiltrate        3    3\n",
              "4        necrosis_or_debris        4    4\n",
              "5      glandular_secretions        5    5\n",
              "6                     blood        6    5\n",
              "7                   exclude        7    5\n",
              "8            metaplasia_NOS        8    5\n",
              "9                       fat        9    5\n",
              "10             plasma_cells       10    3\n",
              "11  other_immune_infiltrate       11    3\n",
              "12          mucoid_material       12    5\n",
              "13    normal_acinus_or_duct       13    5\n",
              "14               lymphatics       14    5\n",
              "15             undetermined       15    5\n",
              "16                    nerve       16    5\n",
              "17              skin_adnexa       17    5\n",
              "18             blood_vessel       18    5\n",
              "19            angioinvasion       19    1\n",
              "20                     dcis       20    1\n",
              "21                    other       21    5"
            ],
            "text/html": [
              "\n",
              "  <div id=\"df-1dfd0e79-7b7a-45cd-afcb-21505226648a\">\n",
              "    <div class=\"colab-df-container\">\n",
              "      <div>\n",
              "<style scoped>\n",
              "    .dataframe tbody tr th:only-of-type {\n",
              "        vertical-align: middle;\n",
              "    }\n",
              "\n",
              "    .dataframe tbody tr th {\n",
              "        vertical-align: top;\n",
              "    }\n",
              "\n",
              "    .dataframe thead th {\n",
              "        text-align: right;\n",
              "    }\n",
              "</style>\n",
              "<table border=\"1\" class=\"dataframe\">\n",
              "  <thead>\n",
              "    <tr style=\"text-align: right;\">\n",
              "      <th></th>\n",
              "      <th>label</th>\n",
              "      <th>GT_code</th>\n",
              "      <th>new</th>\n",
              "    </tr>\n",
              "  </thead>\n",
              "  <tbody>\n",
              "    <tr>\n",
              "      <th>0</th>\n",
              "      <td>outside_roi</td>\n",
              "      <td>0</td>\n",
              "      <td>0</td>\n",
              "    </tr>\n",
              "    <tr>\n",
              "      <th>1</th>\n",
              "      <td>tumor</td>\n",
              "      <td>1</td>\n",
              "      <td>1</td>\n",
              "    </tr>\n",
              "    <tr>\n",
              "      <th>2</th>\n",
              "      <td>stroma</td>\n",
              "      <td>2</td>\n",
              "      <td>2</td>\n",
              "    </tr>\n",
              "    <tr>\n",
              "      <th>3</th>\n",
              "      <td>lymphocytic_infiltrate</td>\n",
              "      <td>3</td>\n",
              "      <td>3</td>\n",
              "    </tr>\n",
              "    <tr>\n",
              "      <th>4</th>\n",
              "      <td>necrosis_or_debris</td>\n",
              "      <td>4</td>\n",
              "      <td>4</td>\n",
              "    </tr>\n",
              "    <tr>\n",
              "      <th>5</th>\n",
              "      <td>glandular_secretions</td>\n",
              "      <td>5</td>\n",
              "      <td>5</td>\n",
              "    </tr>\n",
              "    <tr>\n",
              "      <th>6</th>\n",
              "      <td>blood</td>\n",
              "      <td>6</td>\n",
              "      <td>5</td>\n",
              "    </tr>\n",
              "    <tr>\n",
              "      <th>7</th>\n",
              "      <td>exclude</td>\n",
              "      <td>7</td>\n",
              "      <td>5</td>\n",
              "    </tr>\n",
              "    <tr>\n",
              "      <th>8</th>\n",
              "      <td>metaplasia_NOS</td>\n",
              "      <td>8</td>\n",
              "      <td>5</td>\n",
              "    </tr>\n",
              "    <tr>\n",
              "      <th>9</th>\n",
              "      <td>fat</td>\n",
              "      <td>9</td>\n",
              "      <td>5</td>\n",
              "    </tr>\n",
              "    <tr>\n",
              "      <th>10</th>\n",
              "      <td>plasma_cells</td>\n",
              "      <td>10</td>\n",
              "      <td>3</td>\n",
              "    </tr>\n",
              "    <tr>\n",
              "      <th>11</th>\n",
              "      <td>other_immune_infiltrate</td>\n",
              "      <td>11</td>\n",
              "      <td>3</td>\n",
              "    </tr>\n",
              "    <tr>\n",
              "      <th>12</th>\n",
              "      <td>mucoid_material</td>\n",
              "      <td>12</td>\n",
              "      <td>5</td>\n",
              "    </tr>\n",
              "    <tr>\n",
              "      <th>13</th>\n",
              "      <td>normal_acinus_or_duct</td>\n",
              "      <td>13</td>\n",
              "      <td>5</td>\n",
              "    </tr>\n",
              "    <tr>\n",
              "      <th>14</th>\n",
              "      <td>lymphatics</td>\n",
              "      <td>14</td>\n",
              "      <td>5</td>\n",
              "    </tr>\n",
              "    <tr>\n",
              "      <th>15</th>\n",
              "      <td>undetermined</td>\n",
              "      <td>15</td>\n",
              "      <td>5</td>\n",
              "    </tr>\n",
              "    <tr>\n",
              "      <th>16</th>\n",
              "      <td>nerve</td>\n",
              "      <td>16</td>\n",
              "      <td>5</td>\n",
              "    </tr>\n",
              "    <tr>\n",
              "      <th>17</th>\n",
              "      <td>skin_adnexa</td>\n",
              "      <td>17</td>\n",
              "      <td>5</td>\n",
              "    </tr>\n",
              "    <tr>\n",
              "      <th>18</th>\n",
              "      <td>blood_vessel</td>\n",
              "      <td>18</td>\n",
              "      <td>5</td>\n",
              "    </tr>\n",
              "    <tr>\n",
              "      <th>19</th>\n",
              "      <td>angioinvasion</td>\n",
              "      <td>19</td>\n",
              "      <td>1</td>\n",
              "    </tr>\n",
              "    <tr>\n",
              "      <th>20</th>\n",
              "      <td>dcis</td>\n",
              "      <td>20</td>\n",
              "      <td>1</td>\n",
              "    </tr>\n",
              "    <tr>\n",
              "      <th>21</th>\n",
              "      <td>other</td>\n",
              "      <td>21</td>\n",
              "      <td>5</td>\n",
              "    </tr>\n",
              "  </tbody>\n",
              "</table>\n",
              "</div>\n",
              "      <button class=\"colab-df-convert\" onclick=\"convertToInteractive('df-1dfd0e79-7b7a-45cd-afcb-21505226648a')\"\n",
              "              title=\"Convert this dataframe to an interactive table.\"\n",
              "              style=\"display:none;\">\n",
              "        \n",
              "  <svg xmlns=\"http://www.w3.org/2000/svg\" height=\"24px\"viewBox=\"0 0 24 24\"\n",
              "       width=\"24px\">\n",
              "    <path d=\"M0 0h24v24H0V0z\" fill=\"none\"/>\n",
              "    <path d=\"M18.56 5.44l.94 2.06.94-2.06 2.06-.94-2.06-.94-.94-2.06-.94 2.06-2.06.94zm-11 1L8.5 8.5l.94-2.06 2.06-.94-2.06-.94L8.5 2.5l-.94 2.06-2.06.94zm10 10l.94 2.06.94-2.06 2.06-.94-2.06-.94-.94-2.06-.94 2.06-2.06.94z\"/><path d=\"M17.41 7.96l-1.37-1.37c-.4-.4-.92-.59-1.43-.59-.52 0-1.04.2-1.43.59L10.3 9.45l-7.72 7.72c-.78.78-.78 2.05 0 2.83L4 21.41c.39.39.9.59 1.41.59.51 0 1.02-.2 1.41-.59l7.78-7.78 2.81-2.81c.8-.78.8-2.07 0-2.86zM5.41 20L4 18.59l7.72-7.72 1.47 1.35L5.41 20z\"/>\n",
              "  </svg>\n",
              "      </button>\n",
              "      \n",
              "  <style>\n",
              "    .colab-df-container {\n",
              "      display:flex;\n",
              "      flex-wrap:wrap;\n",
              "      gap: 12px;\n",
              "    }\n",
              "\n",
              "    .colab-df-convert {\n",
              "      background-color: #E8F0FE;\n",
              "      border: none;\n",
              "      border-radius: 50%;\n",
              "      cursor: pointer;\n",
              "      display: none;\n",
              "      fill: #1967D2;\n",
              "      height: 32px;\n",
              "      padding: 0 0 0 0;\n",
              "      width: 32px;\n",
              "    }\n",
              "\n",
              "    .colab-df-convert:hover {\n",
              "      background-color: #E2EBFA;\n",
              "      box-shadow: 0px 1px 2px rgba(60, 64, 67, 0.3), 0px 1px 3px 1px rgba(60, 64, 67, 0.15);\n",
              "      fill: #174EA6;\n",
              "    }\n",
              "\n",
              "    [theme=dark] .colab-df-convert {\n",
              "      background-color: #3B4455;\n",
              "      fill: #D2E3FC;\n",
              "    }\n",
              "\n",
              "    [theme=dark] .colab-df-convert:hover {\n",
              "      background-color: #434B5C;\n",
              "      box-shadow: 0px 1px 3px 1px rgba(0, 0, 0, 0.15);\n",
              "      filter: drop-shadow(0px 1px 2px rgba(0, 0, 0, 0.3));\n",
              "      fill: #FFFFFF;\n",
              "    }\n",
              "  </style>\n",
              "\n",
              "      <script>\n",
              "        const buttonEl =\n",
              "          document.querySelector('#df-1dfd0e79-7b7a-45cd-afcb-21505226648a button.colab-df-convert');\n",
              "        buttonEl.style.display =\n",
              "          google.colab.kernel.accessAllowed ? 'block' : 'none';\n",
              "\n",
              "        async function convertToInteractive(key) {\n",
              "          const element = document.querySelector('#df-1dfd0e79-7b7a-45cd-afcb-21505226648a');\n",
              "          const dataTable =\n",
              "            await google.colab.kernel.invokeFunction('convertToInteractive',\n",
              "                                                     [key], {});\n",
              "          if (!dataTable) return;\n",
              "\n",
              "          const docLinkHtml = 'Like what you see? Visit the ' +\n",
              "            '<a target=\"_blank\" href=https://colab.research.google.com/notebooks/data_table.ipynb>data table notebook</a>'\n",
              "            + ' to learn more about interactive tables.';\n",
              "          element.innerHTML = '';\n",
              "          dataTable['output_type'] = 'display_data';\n",
              "          await google.colab.output.renderOutput(dataTable, element);\n",
              "          const docLink = document.createElement('div');\n",
              "          docLink.innerHTML = docLinkHtml;\n",
              "          element.appendChild(docLink);\n",
              "        }\n",
              "      </script>\n",
              "    </div>\n",
              "  </div>\n",
              "  "
            ]
          },
          "metadata": {},
          "execution_count": 8
        }
      ],
      "source": [
        "ground_truth_tsv_path =os.path.join(prep_dataset_obj.path_to_clone_repo,'meta/gtruth_codes.tsv')\n",
        "\n",
        "cancer_classes = pd.read_csv(ground_truth_tsv_path,\n",
        "                             sep = '\\t')\n",
        " \n",
        "cancer_classes['new'] = cancer_classes['GT_code'].map(prep_dataset_obj.map_gt_to_new_values_6_class)\n",
        "orig_gt_labels = cancer_classes.GT_code.values\n",
        "cancer_classes"
      ]
    },
    {
      "cell_type": "code",
      "execution_count": null,
      "metadata": {
        "colab": {
          "base_uri": "https://localhost:8080/",
          "height": 238
        },
        "id": "gHG7dwN2rdIZ",
        "outputId": "e3f7e936-26f9-4cab-8068-9ee82acea19e"
      },
      "outputs": [
        {
          "output_type": "execute_result",
          "data": {
            "text/plain": [
              "    class_names  grouped_gt_values\n",
              "0   outside_roi                  0\n",
              "1         tumor                  1\n",
              "2        stroma                  2\n",
              "3  inflammatory                  3\n",
              "4      necrosis                  4\n",
              "5         other                  5"
            ],
            "text/html": [
              "\n",
              "  <div id=\"df-6c5e4dc2-d595-42ce-abf7-14c8adc039e3\">\n",
              "    <div class=\"colab-df-container\">\n",
              "      <div>\n",
              "<style scoped>\n",
              "    .dataframe tbody tr th:only-of-type {\n",
              "        vertical-align: middle;\n",
              "    }\n",
              "\n",
              "    .dataframe tbody tr th {\n",
              "        vertical-align: top;\n",
              "    }\n",
              "\n",
              "    .dataframe thead th {\n",
              "        text-align: right;\n",
              "    }\n",
              "</style>\n",
              "<table border=\"1\" class=\"dataframe\">\n",
              "  <thead>\n",
              "    <tr style=\"text-align: right;\">\n",
              "      <th></th>\n",
              "      <th>class_names</th>\n",
              "      <th>grouped_gt_values</th>\n",
              "    </tr>\n",
              "  </thead>\n",
              "  <tbody>\n",
              "    <tr>\n",
              "      <th>0</th>\n",
              "      <td>outside_roi</td>\n",
              "      <td>0</td>\n",
              "    </tr>\n",
              "    <tr>\n",
              "      <th>1</th>\n",
              "      <td>tumor</td>\n",
              "      <td>1</td>\n",
              "    </tr>\n",
              "    <tr>\n",
              "      <th>2</th>\n",
              "      <td>stroma</td>\n",
              "      <td>2</td>\n",
              "    </tr>\n",
              "    <tr>\n",
              "      <th>3</th>\n",
              "      <td>inflammatory</td>\n",
              "      <td>3</td>\n",
              "    </tr>\n",
              "    <tr>\n",
              "      <th>4</th>\n",
              "      <td>necrosis</td>\n",
              "      <td>4</td>\n",
              "    </tr>\n",
              "    <tr>\n",
              "      <th>5</th>\n",
              "      <td>other</td>\n",
              "      <td>5</td>\n",
              "    </tr>\n",
              "  </tbody>\n",
              "</table>\n",
              "</div>\n",
              "      <button class=\"colab-df-convert\" onclick=\"convertToInteractive('df-6c5e4dc2-d595-42ce-abf7-14c8adc039e3')\"\n",
              "              title=\"Convert this dataframe to an interactive table.\"\n",
              "              style=\"display:none;\">\n",
              "        \n",
              "  <svg xmlns=\"http://www.w3.org/2000/svg\" height=\"24px\"viewBox=\"0 0 24 24\"\n",
              "       width=\"24px\">\n",
              "    <path d=\"M0 0h24v24H0V0z\" fill=\"none\"/>\n",
              "    <path d=\"M18.56 5.44l.94 2.06.94-2.06 2.06-.94-2.06-.94-.94-2.06-.94 2.06-2.06.94zm-11 1L8.5 8.5l.94-2.06 2.06-.94-2.06-.94L8.5 2.5l-.94 2.06-2.06.94zm10 10l.94 2.06.94-2.06 2.06-.94-2.06-.94-.94-2.06-.94 2.06-2.06.94z\"/><path d=\"M17.41 7.96l-1.37-1.37c-.4-.4-.92-.59-1.43-.59-.52 0-1.04.2-1.43.59L10.3 9.45l-7.72 7.72c-.78.78-.78 2.05 0 2.83L4 21.41c.39.39.9.59 1.41.59.51 0 1.02-.2 1.41-.59l7.78-7.78 2.81-2.81c.8-.78.8-2.07 0-2.86zM5.41 20L4 18.59l7.72-7.72 1.47 1.35L5.41 20z\"/>\n",
              "  </svg>\n",
              "      </button>\n",
              "      \n",
              "  <style>\n",
              "    .colab-df-container {\n",
              "      display:flex;\n",
              "      flex-wrap:wrap;\n",
              "      gap: 12px;\n",
              "    }\n",
              "\n",
              "    .colab-df-convert {\n",
              "      background-color: #E8F0FE;\n",
              "      border: none;\n",
              "      border-radius: 50%;\n",
              "      cursor: pointer;\n",
              "      display: none;\n",
              "      fill: #1967D2;\n",
              "      height: 32px;\n",
              "      padding: 0 0 0 0;\n",
              "      width: 32px;\n",
              "    }\n",
              "\n",
              "    .colab-df-convert:hover {\n",
              "      background-color: #E2EBFA;\n",
              "      box-shadow: 0px 1px 2px rgba(60, 64, 67, 0.3), 0px 1px 3px 1px rgba(60, 64, 67, 0.15);\n",
              "      fill: #174EA6;\n",
              "    }\n",
              "\n",
              "    [theme=dark] .colab-df-convert {\n",
              "      background-color: #3B4455;\n",
              "      fill: #D2E3FC;\n",
              "    }\n",
              "\n",
              "    [theme=dark] .colab-df-convert:hover {\n",
              "      background-color: #434B5C;\n",
              "      box-shadow: 0px 1px 3px 1px rgba(0, 0, 0, 0.15);\n",
              "      filter: drop-shadow(0px 1px 2px rgba(0, 0, 0, 0.3));\n",
              "      fill: #FFFFFF;\n",
              "    }\n",
              "  </style>\n",
              "\n",
              "      <script>\n",
              "        const buttonEl =\n",
              "          document.querySelector('#df-6c5e4dc2-d595-42ce-abf7-14c8adc039e3 button.colab-df-convert');\n",
              "        buttonEl.style.display =\n",
              "          google.colab.kernel.accessAllowed ? 'block' : 'none';\n",
              "\n",
              "        async function convertToInteractive(key) {\n",
              "          const element = document.querySelector('#df-6c5e4dc2-d595-42ce-abf7-14c8adc039e3');\n",
              "          const dataTable =\n",
              "            await google.colab.kernel.invokeFunction('convertToInteractive',\n",
              "                                                     [key], {});\n",
              "          if (!dataTable) return;\n",
              "\n",
              "          const docLinkHtml = 'Like what you see? Visit the ' +\n",
              "            '<a target=\"_blank\" href=https://colab.research.google.com/notebooks/data_table.ipynb>data table notebook</a>'\n",
              "            + ' to learn more about interactive tables.';\n",
              "          element.innerHTML = '';\n",
              "          dataTable['output_type'] = 'display_data';\n",
              "          await google.colab.output.renderOutput(dataTable, element);\n",
              "          const docLink = document.createElement('div');\n",
              "          docLink.innerHTML = docLinkHtml;\n",
              "          element.appendChild(docLink);\n",
              "        }\n",
              "      </script>\n",
              "    </div>\n",
              "  </div>\n",
              "  "
            ]
          },
          "metadata": {},
          "execution_count": 9
        }
      ],
      "source": [
        "class_names_new = ['outside_roi','tumor','stroma','inflammatory','necrosis','other']\n",
        "classes_new_int = [0,1,2,3,4,5]\n",
        "grouped_classes_df = pd.DataFrame()\n",
        "grouped_classes_df['class_names'] = class_names_new\n",
        "grouped_classes_df['grouped_gt_values'] = classes_new_int\n",
        "grouped_classes_df"
      ]
    },
    {
      "cell_type": "markdown",
      "metadata": {
        "id": "i33p1bAzP96z"
      },
      "source": [
        "### Testing generation of single mask"
      ]
    },
    {
      "cell_type": "code",
      "execution_count": null,
      "metadata": {
        "colab": {
          "base_uri": "https://localhost:8080/",
          "height": 124
        },
        "id": "eT7YBUuzGMwq",
        "outputId": "7fc56ab5-c80f-4b9b-a979-ced34c7dcf5d"
      },
      "outputs": [
        {
          "output_type": "stream",
          "name": "stdout",
          "text": [
            "processing mask: TCGA-A1-A0SP-DX1_xmin6798_ymin53719_MPP-0.2500.png\n",
            "temp path: /content/gdrive/MyDrive/BCSS_dataset/testing/new_gt_folder/TCGA-A1-A0SP-DX1_xmin6798_ymin53719_MPP-0.2500.png\n",
            "finished mask: TCGA-A1-A0SP-DX1_xmin6798_ymin53719_MPP-0.2500.png\n"
          ]
        },
        {
          "output_type": "execute_result",
          "data": {
            "text/plain": [
              "'/content/gdrive/MyDrive/BCSS_dataset/testing/new_gt_folder/TCGA-A1-A0SP-DX1_xmin6798_ymin53719_MPP-0.2500.png'"
            ],
            "application/vnd.google.colaboratory.intrinsic+json": {
              "type": "string"
            }
          },
          "metadata": {},
          "execution_count": 10
        }
      ],
      "source": [
        "#testing single mask creation\n",
        "testing_masks_folder = '/content/gdrive/MyDrive/BCSS_dataset/testing/new_gt_folder'\n",
        "\n",
        "prep_dataset_obj.process_mask(mask_path='/content/gdrive/MyDrive/BCSS_dataset/masks/TCGA-A1-A0SP-DX1_xmin6798_ymin53719_MPP-0.2500.png', \n",
        "                              new_masks_folder= testing_masks_folder,\n",
        "                              vfunc_to_convert = None,\n",
        "                              make_3d_mask=False)"
      ]
    },
    {
      "cell_type": "code",
      "execution_count": null,
      "metadata": {
        "id": "LPZrE3Dfic1w"
      },
      "outputs": [],
      "source": [
        "#testing mask creation\n",
        "# test_mask = '/content/gdrive/MyDrive/BCSS_dataset/testing/new_gt_folder/TCGA-A1-A0SP-DX1_xmin6798_ymin53719_MPP-0.2500.png'\n",
        "# test = cv2.imread(test_mask,cv2.IMREAD_UNCHANGED)\n",
        "# test2 = Image.open(test_mask)\n",
        "# test2_array = np.asarray(test2)\n",
        "# print(np.shape(test2_array))\n",
        "# plt.imshow(test2,cmap='gray')"
      ]
    },
    {
      "cell_type": "markdown",
      "metadata": {
        "id": "RDli3Z7BCqvp"
      },
      "source": [
        "### apply function to remap pixel values for each mask"
      ]
    },
    {
      "cell_type": "code",
      "execution_count": null,
      "metadata": {
        "colab": {
          "base_uri": "https://localhost:8080/"
        },
        "id": "wbHxR-U7j8Mg",
        "outputId": "3f549cab-84f1-4fdb-b98e-c6a65f716ec1"
      },
      "outputs": [
        {
          "output_type": "stream",
          "name": "stdout",
          "text": [
            "creating 2d masks with 6 classes \n",
            "new masks folder already exists, confirm replace existing new masks folder (y/n)n\n",
            "nothing to do, exiting\n"
          ]
        }
      ],
      "source": [
        "#select folder to save new masks depe\n",
        "new_mask_dir_2d_2class = '/content/gdrive/MyDrive/BCSS_dataset/new_masks_2d_2_class'\n",
        "new_mask_dir_2d_6class = '/content/gdrive/MyDrive/BCSS_dataset/new_masks_2d_6_class'\n",
        "\n",
        "#choose which set of masks will be generated: 2d vs 3d, 6 class vs 2 class\n",
        "new_mask_folder = new_mask_dir_2d_6class\n",
        "\n",
        "#get dimensions and n-classes from filename\n",
        "dims_from_path = int(new_mask_folder.split('_')[3][0])\n",
        "num_classes_from_path = int(new_mask_folder.split('_')[-2])\n",
        "assert isinstance(dims_from_path, int),f\"dims_from_path not an integer: {dims_from_path}\"\n",
        "assert isinstance(num_classes_from_path, int),\"num_classes_from_path not an integer\"\n",
        "\n",
        "print(f'creating {dims_from_path}d masks with {num_classes_from_path} classes ')\n",
        "\n",
        "if (dims_from_path == 2) and (num_classes_from_path==6):\n",
        "  prep_dataset_obj.remap_ground_truth_masks(new_mask_folder,\n",
        "                                            convert_to_binary=False,\n",
        "                                            make_3d_mask=False)\n",
        "  "
      ]
    },
    {
      "cell_type": "code",
      "execution_count": null,
      "metadata": {
        "id": "rJbPllUKycrX"
      },
      "outputs": [],
      "source": [
        "#testing dimensions of masks\n",
        "# heights = []\n",
        "# widths = []\n",
        "# channels = []\n",
        "\n",
        "# mask_folder = '/content/gdrive/MyDrive/BCSS_dataset/new_masks_2d_6_class'\n",
        "# for path in os.listdir(mask_folder):\n",
        "#   abs_path = os.path.join(mask_folder,path)\n",
        "#   img = cv2.imread(abs_path,cv2.IMREAD_UNCHANGED)\n",
        "#   n_dims = len(np.shape(img))\n",
        "#   if n_dims == 3:\n",
        "#     raise ValueError(f'image {abs_path} has too many dims')"
      ]
    },
    {
      "cell_type": "markdown",
      "metadata": {
        "id": "aC2bVyCsmOnR"
      },
      "source": [
        "## Visualising the dataset"
      ]
    },
    {
      "cell_type": "markdown",
      "metadata": {
        "id": "L5mNQuc2GsVE"
      },
      "source": [
        "We need to map the different classes to a palette for visualisation of the different classes"
      ]
    },
    {
      "cell_type": "code",
      "execution_count": null,
      "metadata": {
        "colab": {
          "base_uri": "https://localhost:8080/"
        },
        "id": "JOVHaXrNYUel",
        "outputId": "85b048f1-b329-4be6-f6ae-30d14b884efa"
      },
      "outputs": [
        {
          "output_type": "execute_result",
          "data": {
            "text/plain": [
              "array([[255., 127.,  14.],\n",
              "       [255., 187., 120.],\n",
              "       [ 44., 160.,  44.],\n",
              "       [152., 223., 138.],\n",
              "       [ 31., 119., 180.],\n",
              "       [174., 199., 232.]])"
            ]
          },
          "metadata": {},
          "execution_count": 14
        }
      ],
      "source": [
        "# convert dataset annotation to semantic segmentation map\n",
        "palette = sns.color_palette('tab20', len(classes_new_int))                                            \n",
        "palette_array = np.asarray(palette)*255\n",
        "# roll array so orange is tumour \n",
        "palette_array = np.roll(palette_array, -2,axis=0)\n",
        "palette_array #shows palette"
      ]
    },
    {
      "cell_type": "code",
      "execution_count": null,
      "metadata": {
        "id": "5MCSS9ABfSks"
      },
      "outputs": [],
      "source": [
        "def visualise_seg(img_path,mask_path):\n",
        "  # plt.rcParams.update({'font.size': 30})\n",
        "\n",
        "  fig, (ax1,ax2) = plt.subplots(1,2,figsize=(30,20))\n",
        "  img = cv2.imread(img_path)\n",
        "  ax1.imshow(img)\n",
        "  ax1.set_title('Breast Cancer Histology Slide',fontsize=30)\n",
        "  ax1.axis('off')\n",
        "\n",
        "  # fig.suptitle(f'{img_path}')\n",
        "\n",
        "  mask_img = cv2.imread(mask_path,cv2.IMREAD_UNCHANGED)\n",
        "  mask_array = np.array(mask_img)\n",
        "  shape = np.shape(mask_array)\n",
        "\n",
        "  scale_percent = 20\n",
        "\n",
        "  new_width = int(shape[1] * scale_percent / 100)\n",
        "  new_height = int(shape[0] * scale_percent / 100)\n",
        "\n",
        "  mask_img = cv2.resize(mask_img,(new_width,new_height))\n",
        "  mask_array = cv2.resize(mask_array,(new_width,new_height))\n",
        "  print(f'orig shape of mask array: {shape}')\n",
        "  print(f'resized shape: {new_width} x {new_height}')\n",
        "  if shape[-1] == 3:\n",
        "    mask_array = mask_array[:,:,0]\n",
        "\n",
        "  #make image patches to visualise different classes\n",
        "  seg_img = Image.fromarray(mask_array).convert('P')\n",
        "  seg_img.putpalette(np.array(palette_array, dtype=np.uint8))\n",
        "  patches = [mpatches.Patch(color=palette_array[i]/255, \n",
        "                          label=class_names_new[i]) for i in range(len(classes_new_int))]\n",
        "  \n",
        "  ax2.legend(handles=patches, \n",
        "             bbox_to_anchor=(1.0,0.5), #was (1.5,1)\n",
        "             loc=6, \n",
        "             borderaxespad=0., \n",
        "            fontsize=25,\n",
        "            title='Segmentation Classes',\n",
        "            title_fontsize=25,\n",
        "            fancybox=True)\n",
        "\n",
        "  # ax2.legend(handles=patches, bbox_to_anchor=(1.5,1),loc=0, borderaxespad=0., \n",
        "  #           fontsize='large')\n",
        "\n",
        "  ax2.set_title('Segmentation Ground Truth',fontsize=30)\n",
        "  ax2.imshow(seg_img)\n",
        "  ax2.axis('off')\n",
        "  # print(mask_array[0])\n",
        "  plt.tight_layout()\n",
        "  plt.show()\n",
        "\n",
        "for x in range(4):\n",
        "  visualise_seg(img_path=prep_dataset_obj.orig_image_paths_list[x],\n",
        "                mask_path=prep_dataset_obj.new_masks_paths_list[x])\n"
      ]
    },
    {
      "cell_type": "markdown",
      "metadata": {
        "id": "vkKa_qMtl9tw"
      },
      "source": [
        "## Cancer dataset augmentation"
      ]
    },
    {
      "cell_type": "markdown",
      "metadata": {
        "id": "fpMIIzinyoRX"
      },
      "source": [
        "### create patches of 800 x 800 for both images and masks"
      ]
    },
    {
      "cell_type": "code",
      "execution_count": null,
      "metadata": {
        "colab": {
          "base_uri": "https://localhost:8080/"
        },
        "id": "N_PzSx6bI9QW",
        "outputId": "7a5bf68f-19d7-452e-c0d2-19de278ededa"
      },
      "outputs": [
        {
          "output_type": "stream",
          "name": "stdout",
          "text": [
            "splitting TCGA-A1-A0SK-DX1_xmin45749_ymin25055_MPP-0 into 20 patches:\n",
            "finished splitting TCGA-A1-A0SK-DX1_xmin45749_ymin25055_MPP-0\n"
          ]
        }
      ],
      "source": [
        "#testing ssplit single image and mask into patches\n",
        "img = prep_dataset_obj.orig_image_paths_list[0]\n",
        "mask = prep_dataset_obj.new_masks_paths_list[0]\n",
        "\n",
        "prep_dataset_obj.split_and_save_single_image_and_mask(\n",
        "                                           orig_image_path=img,\n",
        "                                           mask_path=mask,\n",
        "                                           output_folder='/content/gdrive/MyDrive/BCSS_dataset/testing',\n",
        "                                           slice_size=800)"
      ]
    },
    {
      "cell_type": "code",
      "execution_count": null,
      "metadata": {
        "colab": {
          "base_uri": "https://localhost:8080/"
        },
        "id": "zEipVr0duyw5",
        "outputId": "01891749-ea85-471a-f433-1e71909d9309"
      },
      "outputs": [
        {
          "output_type": "stream",
          "name": "stdout",
          "text": [
            "it appears patch folder already exists. confirm delete existing folder (y/n)n\n",
            "nothing to do, exiting\n"
          ]
        }
      ],
      "source": [
        "patched_folder = '/content/gdrive/MyDrive/BCSS_dataset/patched_images_masks_2d_6_class'\n",
        "\n",
        "#create image patches\n",
        "prep_dataset_obj.start_splitting_all_images_masks(new_folder_for_patched=patched_folder,\n",
        "                                                  mask_type='new')"
      ]
    },
    {
      "cell_type": "code",
      "execution_count": null,
      "metadata": {
        "colab": {
          "base_uri": "https://localhost:8080/"
        },
        "id": "33K1uPE41JV7",
        "outputId": "af8aa004-659d-472b-bdb0-5896b043eef8"
      },
      "outputs": [
        {
          "output_type": "stream",
          "name": "stdout",
          "text": [
            "4812\n",
            "4812\n"
          ]
        }
      ],
      "source": [
        "prep_dataset_obj.get_patched_file_paths(patched_folder)\n",
        "print(len(prep_dataset_obj.patched_image_paths_list))\n",
        "print(len(prep_dataset_obj.patched_mask_paths_list))"
      ]
    },
    {
      "cell_type": "code",
      "execution_count": null,
      "metadata": {
        "id": "ECuz8Irn0Ppr",
        "colab": {
          "base_uri": "https://localhost:8080/"
        },
        "outputId": "869e1350-6f40-49a2-a96b-dfdd7e94a118"
      },
      "outputs": [
        {
          "output_type": "stream",
          "name": "stdout",
          "text": [
            "num images not present in mask list: 0\n",
            "num masks not present in image list: 0\n",
            "total paths with bad filename \".png.png\": 0\n",
            "confirm delete unmatching images and masks (y/n)y\n",
            "images and masks now all have mnatching pairs\n"
          ]
        }
      ],
      "source": [
        "prep_dataset_obj.make_sure_same_images_and_masks_present()"
      ]
    },
    {
      "cell_type": "code",
      "execution_count": null,
      "metadata": {
        "id": "Kv7-qIaj43C9",
        "colab": {
          "base_uri": "https://localhost:8080/"
        },
        "outputId": "5df41584-654b-41eb-f6f2-0338b4e9062a"
      },
      "outputs": [
        {
          "output_type": "stream",
          "name": "stdout",
          "text": [
            "image and mask lists are the same length\n",
            "for each x image and mask should have same name\n",
            "0\n",
            "orig image\n",
            "/content/gdrive/MyDrive/BCSS_dataset/patched_images_masks_2d_6_class/images/TCGA-A1-A0SK-DX1_xmin45749_ymin25055_MPP-0_sub_image_00.png\n",
            "mask\n",
            "/content/gdrive/MyDrive/BCSS_dataset/patched_images_masks_2d_6_class/masks/TCGA-A1-A0SK-DX1_xmin45749_ymin25055_MPP-0_sub_image_00.png\n",
            "1\n",
            "orig image\n",
            "/content/gdrive/MyDrive/BCSS_dataset/patched_images_masks_2d_6_class/images/TCGA-A1-A0SK-DX1_xmin45749_ymin25055_MPP-0_sub_image_01.png\n",
            "mask\n",
            "/content/gdrive/MyDrive/BCSS_dataset/patched_images_masks_2d_6_class/masks/TCGA-A1-A0SK-DX1_xmin45749_ymin25055_MPP-0_sub_image_01.png\n",
            "2\n",
            "orig image\n",
            "/content/gdrive/MyDrive/BCSS_dataset/patched_images_masks_2d_6_class/images/TCGA-A1-A0SK-DX1_xmin45749_ymin25055_MPP-0_sub_image_02.png\n",
            "mask\n",
            "/content/gdrive/MyDrive/BCSS_dataset/patched_images_masks_2d_6_class/masks/TCGA-A1-A0SK-DX1_xmin45749_ymin25055_MPP-0_sub_image_02.png\n",
            "3\n",
            "orig image\n",
            "/content/gdrive/MyDrive/BCSS_dataset/patched_images_masks_2d_6_class/images/TCGA-A1-A0SK-DX1_xmin45749_ymin25055_MPP-0_sub_image_03.png\n",
            "mask\n",
            "/content/gdrive/MyDrive/BCSS_dataset/patched_images_masks_2d_6_class/masks/TCGA-A1-A0SK-DX1_xmin45749_ymin25055_MPP-0_sub_image_03.png\n",
            "4\n",
            "orig image\n",
            "/content/gdrive/MyDrive/BCSS_dataset/patched_images_masks_2d_6_class/images/TCGA-A1-A0SK-DX1_xmin45749_ymin25055_MPP-0_sub_image_04.png\n",
            "mask\n",
            "/content/gdrive/MyDrive/BCSS_dataset/patched_images_masks_2d_6_class/masks/TCGA-A1-A0SK-DX1_xmin45749_ymin25055_MPP-0_sub_image_04.png\n"
          ]
        }
      ],
      "source": [
        "prep_dataset_obj.sanity_check(prep_dataset_obj.patched_image_paths_list,\n",
        "                              prep_dataset_obj.patched_mask_paths_list)"
      ]
    },
    {
      "cell_type": "code",
      "execution_count": null,
      "metadata": {
        "id": "dQyGpps3ft2_"
      },
      "outputs": [],
      "source": [
        "for x in range(10):\n",
        "  visualise_seg(img_path=prep_dataset_obj.patched_image_paths_list[x],\n",
        "                mask_path=prep_dataset_obj.patched_mask_paths_list[x])"
      ]
    },
    {
      "cell_type": "code",
      "source": [],
      "metadata": {
        "id": "R-bFLLQs-_yW"
      },
      "execution_count": null,
      "outputs": []
    }
  ],
  "metadata": {
    "colab": {
      "provenance": []
    },
    "gpuClass": "standard",
    "kernelspec": {
      "display_name": "Python 3.10.4 ('colab')",
      "language": "python",
      "name": "python3"
    },
    "language_info": {
      "codemirror_mode": {
        "name": "ipython",
        "version": 3
      },
      "file_extension": ".py",
      "mimetype": "text/x-python",
      "name": "python",
      "nbconvert_exporter": "python",
      "pygments_lexer": "ipython3",
      "version": "3.10.4"
    },
    "pycharm": {
      "stem_cell": {
        "cell_type": "raw",
        "metadata": {
          "collapsed": false
        },
        "source": []
      }
    },
    "vscode": {
      "interpreter": {
        "hash": "407d2a53ddc3f8f7c4edd35e4d9b95b1c1ccdf5b3711df67dd21487022baf36e"
      }
    }
  },
  "nbformat": 4,
  "nbformat_minor": 0
}